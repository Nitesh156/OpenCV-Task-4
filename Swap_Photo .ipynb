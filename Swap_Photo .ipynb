{
 "cells": [
  {
   "cell_type": "code",
   "execution_count": 1,
   "id": "436c6763",
   "metadata": {},
   "outputs": [],
   "source": [
    "import cv2"
   ]
  },
  {
   "cell_type": "code",
   "execution_count": 2,
   "id": "ec5b6abf",
   "metadata": {},
   "outputs": [],
   "source": [
    "Krrish = cv2.imread('Krrish.png')\n",
    "Captain_america = cv2.imread('Captain America.png')"
   ]
  },
  {
   "cell_type": "code",
   "execution_count": 3,
   "id": "66ffce87",
   "metadata": {},
   "outputs": [
    {
     "data": {
      "text/plain": [
       "(408, 612, 3)"
      ]
     },
     "execution_count": 3,
     "metadata": {},
     "output_type": "execute_result"
    }
   ],
   "source": [
    "Krrish.shape"
   ]
  },
  {
   "cell_type": "code",
   "execution_count": 4,
   "id": "652e37d0",
   "metadata": {},
   "outputs": [
    {
     "data": {
      "text/plain": [
       "(408, 612, 3)"
      ]
     },
     "execution_count": 4,
     "metadata": {},
     "output_type": "execute_result"
    }
   ],
   "source": [
    "Captain_america.shape"
   ]
  },
  {
   "cell_type": "code",
   "execution_count": 5,
   "id": "6206f4de",
   "metadata": {},
   "outputs": [],
   "source": [
    "cv2.imshow('Krrish_Photo', Krrish)\n",
    "cv2.imshow('Captain_America_Photo', Captain_america)\n",
    "cv2.waitKey()\n",
    "cv2.destroyAllWindows()"
   ]
  },
  {
   "cell_type": "code",
   "execution_count": 6,
   "id": "2dc72148",
   "metadata": {},
   "outputs": [],
   "source": [
    "#Swap Photo\n",
    "Crop_krrish = Krrish[60:280, 220:400]\n",
    "Captain_america[60:280, 220:400] = Crop_krrish\n",
    "cv2.imshow('Swaping', Captain_america)\n",
    "cv2.waitKey()\n",
    "cv2.destroyAllWindows()"
   ]
  },
  {
   "cell_type": "code",
   "execution_count": null,
   "id": "0e8036c2",
   "metadata": {},
   "outputs": [],
   "source": []
  }
 ],
 "metadata": {
  "kernelspec": {
   "display_name": "Python 3",
   "language": "python",
   "name": "python3"
  },
  "language_info": {
   "codemirror_mode": {
    "name": "ipython",
    "version": 3
   },
   "file_extension": ".py",
   "mimetype": "text/x-python",
   "name": "python",
   "nbconvert_exporter": "python",
   "pygments_lexer": "ipython3",
   "version": "3.8.8"
  }
 },
 "nbformat": 4,
 "nbformat_minor": 5
}
