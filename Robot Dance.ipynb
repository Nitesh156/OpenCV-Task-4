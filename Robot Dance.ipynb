{
 "cells": [
  {
   "cell_type": "code",
   "execution_count": 1,
   "id": "93302b68",
   "metadata": {},
   "outputs": [],
   "source": [
    "import cv2\n",
    "import numpy as np"
   ]
  },
  {
   "cell_type": "code",
   "execution_count": 2,
   "id": "79a0c05a",
   "metadata": {},
   "outputs": [],
   "source": [
    "photo = np.zeros((500,500,3))"
   ]
  },
  {
   "cell_type": "code",
   "execution_count": 3,
   "id": "2c5b88ec",
   "metadata": {},
   "outputs": [
    {
     "data": {
      "text/plain": [
       "(500, 500, 3)"
      ]
     },
     "execution_count": 3,
     "metadata": {},
     "output_type": "execute_result"
    }
   ],
   "source": [
    "photo.shape"
   ]
  },
  {
   "cell_type": "code",
   "execution_count": 4,
   "id": "ea0f987d",
   "metadata": {},
   "outputs": [],
   "source": [
    "# Head\n",
    "photo[50:150,200:300]=[0,255,0]\n",
    "#Neck\n",
    "photo[150:170,240:260] = [0,0,255]\n",
    "#Body\n",
    "photo[170:300,150:350] = [255,0,0]\n",
    "#Left Leg \n",
    "photo[300:450,195:205] = [0,255,0]\n",
    "#Right Leg \n",
    "photo[300:450,295:305] = [0,255,0]\n",
    "# Left Hand \n",
    "photo[170:180,50:150] = [0,0,255]\n",
    "photo[170:250,50:60] = [0,0,255]\n",
    "#Right Hand\n",
    "photo[170:180,350:450] = [0,0,255]\n",
    "photo[90:170,440:450] = [0,0,255]"
   ]
  },
  {
   "cell_type": "code",
   "execution_count": 5,
   "id": "a7daada9",
   "metadata": {},
   "outputs": [],
   "source": [
    "cv2.imshow('Image', photo)\n",
    "cv2.waitKey()\n",
    "cv2.destroyAllWindows()"
   ]
  },
  {
   "cell_type": "code",
   "execution_count": 6,
   "id": "67e7aade",
   "metadata": {},
   "outputs": [],
   "source": [
    "mirror = np.zeros((500,500,3))\n",
    "# Head\n",
    "mirror[50:150,200:300]=[0,255,0]\n",
    "#Neck\n",
    "mirror[150:170,240:260] = [0,0,255]\n",
    "\n",
    "#Eyes_1\n",
    "mirror[ 72:85 , 220:230 ]=[0,0,0]\n",
    "\n",
    "#Eyes_2\n",
    "mirror[ 72:85 , 270:280 ]=[0,0,0]\n",
    "\n",
    "#Mouth\n",
    "mirror[ 115:125 , 233:267 ]=[10,20,205]\n",
    "\n",
    "#Body\n",
    "mirror[170:300,150:350] = [255,0,0]\n",
    "\n",
    "#Left Leg \n",
    "mirror[300:450,195:205] = [0,255,0]\n",
    "\n",
    "#Right Leg \n",
    "mirror[300:450,295:305] = [0,255,0]\n",
    "\n",
    "# Left Hand \n",
    "mirror[170:180,50:150] = [0,0,255]\n",
    "mirror[90:170,50:60] = [0,0,255]\n",
    "\n",
    "#Right Hand\n",
    "mirror[170:180,350:450] = [0,0,255]\n",
    "mirror[170:250,440:450] = [0,0,255]\n",
    "\n"
   ]
  },
  {
   "cell_type": "code",
   "execution_count": 7,
   "id": "db871099",
   "metadata": {},
   "outputs": [],
   "source": [
    "cv2.imshow('Mirror', mirror)\n",
    "cv2.waitKey()\n",
    "cv2.destroyAllWindows()"
   ]
  },
  {
   "cell_type": "code",
   "execution_count": 9,
   "id": "d50d7685",
   "metadata": {},
   "outputs": [],
   "source": [
    "# MAKE DANCE\n",
    "import time\n",
    "i=1\n",
    "while True: \n",
    "    if(i%2==0):\n",
    "        cv2.imshow(\"Robot\",photo)\n",
    "    else:\n",
    "        cv2.imshow(\"Robot\",mirror)\n",
    "    if cv2.waitKey(10)==13:\n",
    "        break\n",
    "    i=i+1\n",
    "    time.sleep(0.5)\n",
    "    \n",
    "cv2.destroyAllWindows()"
   ]
  },
  {
   "cell_type": "code",
   "execution_count": null,
   "id": "0e2e45c4",
   "metadata": {},
   "outputs": [],
   "source": []
  }
 ],
 "metadata": {
  "kernelspec": {
   "display_name": "Python 3",
   "language": "python",
   "name": "python3"
  },
  "language_info": {
   "codemirror_mode": {
    "name": "ipython",
    "version": 3
   },
   "file_extension": ".py",
   "mimetype": "text/x-python",
   "name": "python",
   "nbconvert_exporter": "python",
   "pygments_lexer": "ipython3",
   "version": "3.8.8"
  }
 },
 "nbformat": 4,
 "nbformat_minor": 5
}
