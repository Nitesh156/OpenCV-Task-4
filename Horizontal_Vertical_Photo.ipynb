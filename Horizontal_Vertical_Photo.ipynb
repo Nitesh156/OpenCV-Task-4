{
 "cells": [
  {
   "cell_type": "code",
   "execution_count": 1,
   "id": "436c6763",
   "metadata": {},
   "outputs": [],
   "source": [
    "import cv2"
   ]
  },
  {
   "cell_type": "code",
   "execution_count": 2,
   "id": "ec5b6abf",
   "metadata": {},
   "outputs": [],
   "source": [
    "Krrish = cv2.imread('Krrish.png')\n",
    "Captain_america = cv2.imread('Captain America.png')"
   ]
  },
  {
   "cell_type": "code",
   "execution_count": 3,
   "id": "66ffce87",
   "metadata": {},
   "outputs": [
    {
     "data": {
      "text/plain": [
       "(408, 612, 3)"
      ]
     },
     "execution_count": 3,
     "metadata": {},
     "output_type": "execute_result"
    }
   ],
   "source": [
    "Krrish.shape"
   ]
  },
  {
   "cell_type": "code",
   "execution_count": 4,
   "id": "4cb64bd5",
   "metadata": {},
   "outputs": [
    {
     "data": {
      "text/plain": [
       "(408, 612, 3)"
      ]
     },
     "execution_count": 4,
     "metadata": {},
     "output_type": "execute_result"
    }
   ],
   "source": [
    "Captain_america.shape"
   ]
  },
  {
   "cell_type": "code",
   "execution_count": 5,
   "id": "989dd176",
   "metadata": {},
   "outputs": [],
   "source": [
    "import numpy as np"
   ]
  },
  {
   "cell_type": "code",
   "execution_count": 6,
   "id": "410d4f1f",
   "metadata": {},
   "outputs": [],
   "source": [
    "horizontal_photo = np.hstack((Krrish, Captain_america))"
   ]
  },
  {
   "cell_type": "code",
   "execution_count": 7,
   "id": "b290ef87",
   "metadata": {},
   "outputs": [],
   "source": [
    "vertical_photo = np.vstack((Krrish, Captain_america))"
   ]
  },
  {
   "cell_type": "code",
   "execution_count": 8,
   "id": "6206f4de",
   "metadata": {},
   "outputs": [],
   "source": [
    "cv2.imshow('horizontal', horizontal_photo)\n",
    "cv2.imshow('vertical', vertical_photo)\n",
    "cv2.waitKey()\n",
    "cv2.destroyAllWindows()"
   ]
  },
  {
   "cell_type": "code",
   "execution_count": null,
   "id": "2dc72148",
   "metadata": {},
   "outputs": [],
   "source": []
  },
  {
   "cell_type": "code",
   "execution_count": 9,
   "id": "492938eb",
   "metadata": {},
   "outputs": [],
   "source": [
    "# Now, appending VERTICALLY so width should be same. \n",
    "Krrish = cv2.imread(\"Krrish.png\")\n",
    "Captain_america = cv2.imread(\"Captain America.png\")\n",
    "Krrish = Krrish[:100,:]\n",
    "\n",
    "# Now, we can append VERTICALLY \n",
    "Krrish_Captain = np.vstack((Krrish,Captain_america))"
   ]
  },
  {
   "cell_type": "code",
   "execution_count": 10,
   "id": "445291d0",
   "metadata": {},
   "outputs": [],
   "source": [
    "cv2.imshow('Krrish_Captain', Krrish_Captain)\n",
    "cv2.waitKey()\n",
    "cv2.destroyAllWindows()"
   ]
  },
  {
   "cell_type": "code",
   "execution_count": null,
   "id": "ad60ab29",
   "metadata": {},
   "outputs": [],
   "source": []
  },
  {
   "cell_type": "code",
   "execution_count": 11,
   "id": "b560a35b",
   "metadata": {},
   "outputs": [],
   "source": [
    "# Now, appending VERTICALLY so width should be same. \n",
    "Krrish = cv2.imread(\"Krrish.png\")\n",
    "Captain_america = cv2.imread(\"Captain America.png\")\n",
    "Captain_america = Captain_america[:100,:]\n",
    "\n",
    "# Now, we can append VERTICALLY \n",
    "Krrish_Captain_1 = np.vstack((Krrish,Captain_america))"
   ]
  },
  {
   "cell_type": "code",
   "execution_count": 12,
   "id": "bca367a2",
   "metadata": {},
   "outputs": [],
   "source": [
    "cv2.imshow('Krrish_Captain', Krrish_Captain_1)\n",
    "cv2.waitKey()\n",
    "cv2.destroyAllWindows()"
   ]
  },
  {
   "cell_type": "code",
   "execution_count": null,
   "id": "aac9c92d",
   "metadata": {},
   "outputs": [],
   "source": []
  },
  {
   "cell_type": "code",
   "execution_count": 13,
   "id": "ba354bb4",
   "metadata": {},
   "outputs": [],
   "source": [
    "# Now, appending VERTICALLY so width should be same. \n",
    "Krrish = cv2.imread(\"Krrish.png\")\n",
    "Captain_america = cv2.imread(\"Captain America.png\")\n",
    "Captain_america = Captain_america[:100,:]\n",
    "\n",
    "# Now, we can append VERTICALLY \n",
    "Krrish_Captain_1 = np.vstack((Krrish,Captain_america))"
   ]
  },
  {
   "cell_type": "code",
   "execution_count": 14,
   "id": "c7668c78",
   "metadata": {},
   "outputs": [],
   "source": [
    "cv2.imshow('Krrish_Captain', Krrish_Captain_1)\n",
    "cv2.waitKey()\n",
    "cv2.destroyAllWindows()"
   ]
  },
  {
   "cell_type": "code",
   "execution_count": null,
   "id": "0cfae7d0",
   "metadata": {},
   "outputs": [],
   "source": []
  },
  {
   "cell_type": "code",
   "execution_count": 15,
   "id": "6040b482",
   "metadata": {},
   "outputs": [],
   "source": [
    "# Now, appending HORIZONTALLY so width should be same. \n",
    "Krrish = cv2.imread(\"Krrish.png\")\n",
    "Captain_america = cv2.imread(\"Captain America.png\")\n",
    "Krrish = Krrish[:,300:]\n",
    "\n",
    "# Now, we can append HORIZONTALLY \n",
    "Krrish_Captain_2 = np.hstack((Captain_america,Krrish))"
   ]
  },
  {
   "cell_type": "code",
   "execution_count": 16,
   "id": "c36b417e",
   "metadata": {},
   "outputs": [],
   "source": [
    "cv2.imshow('Krrish_Captain', Krrish_Captain_2)\n",
    "cv2.waitKey()\n",
    "cv2.destroyAllWindows()"
   ]
  },
  {
   "cell_type": "code",
   "execution_count": null,
   "id": "ce9cf8d0",
   "metadata": {},
   "outputs": [],
   "source": []
  },
  {
   "cell_type": "code",
   "execution_count": 17,
   "id": "5a534afd",
   "metadata": {},
   "outputs": [],
   "source": [
    "# Now, appending HORIZONTALLY so width should be same. \n",
    "Krrish = cv2.imread(\"Krrish.png\")\n",
    "Captain_america = cv2.imread(\"Captain America.png\")\n",
    "Krrish = Krrish[:,300:]\n",
    "\n",
    "# Now, we can append HORIZONTALLY \n",
    "Krrish_Captain_3 = np.hstack((Krrish,Captain_america))"
   ]
  },
  {
   "cell_type": "code",
   "execution_count": 18,
   "id": "c5701b11",
   "metadata": {},
   "outputs": [],
   "source": [
    "cv2.imshow('Krrish_Captain', Krrish_Captain_3)\n",
    "cv2.waitKey()\n",
    "cv2.destroyAllWindows()"
   ]
  },
  {
   "cell_type": "code",
   "execution_count": null,
   "id": "6459554f",
   "metadata": {},
   "outputs": [],
   "source": []
  }
 ],
 "metadata": {
  "kernelspec": {
   "display_name": "Python 3",
   "language": "python",
   "name": "python3"
  },
  "language_info": {
   "codemirror_mode": {
    "name": "ipython",
    "version": 3
   },
   "file_extension": ".py",
   "mimetype": "text/x-python",
   "name": "python",
   "nbconvert_exporter": "python",
   "pygments_lexer": "ipython3",
   "version": "3.8.8"
  }
 },
 "nbformat": 4,
 "nbformat_minor": 5
}
